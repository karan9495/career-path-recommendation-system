{
 "cells": [
  {
   "cell_type": "code",
   "execution_count": 12,
   "metadata": {
    "id": "GVIg4ZOYP9TS"
   },
   "outputs": [],
   "source": [
    "import numpy as np\n",
    "import pandas as pd\n",
    "from sklearn.metrics import confusion_matrix,accuracy_score\n",
    "pd.set_option('future.no_silent_downcasting', True)"
   ]
  },
  {
   "cell_type": "code",
   "execution_count": 13,
   "metadata": {
    "id": "thXaZhU4QJWo"
   },
   "outputs": [],
   "source": [
    "data = pd.read_csv('datasets/prediction-data.csv')"
   ]
  },
  {
   "cell_type": "code",
   "execution_count": 14,
   "metadata": {
    "colab": {
     "base_uri": "https://localhost:8080/",
     "height": 397
    },
    "id": "IJbm2Y0Ugqd4",
    "outputId": "f044203e-5dc8-4683-9a27-cb64cab5949f"
   },
   "outputs": [
    {
     "data": {
      "text/html": [
       "<div>\n",
       "<style scoped>\n",
       "    .dataframe tbody tr th:only-of-type {\n",
       "        vertical-align: middle;\n",
       "    }\n",
       "\n",
       "    .dataframe tbody tr th {\n",
       "        vertical-align: top;\n",
       "    }\n",
       "\n",
       "    .dataframe thead th {\n",
       "        text-align: right;\n",
       "    }\n",
       "</style>\n",
       "<table border=\"1\" class=\"dataframe\">\n",
       "  <thead>\n",
       "    <tr style=\"text-align: right;\">\n",
       "      <th></th>\n",
       "      <th>Logical quotient rating</th>\n",
       "      <th>hackathons</th>\n",
       "      <th>coding skills rating</th>\n",
       "      <th>public speaking points</th>\n",
       "      <th>self-learning capability?</th>\n",
       "      <th>Extra-courses did</th>\n",
       "      <th>certifications</th>\n",
       "      <th>workshops</th>\n",
       "      <th>reading and writing skills</th>\n",
       "      <th>memory capability score</th>\n",
       "      <th>Interested subjects</th>\n",
       "      <th>interested career area</th>\n",
       "      <th>Type of company want to settle in?</th>\n",
       "      <th>Taken inputs from seniors or elders</th>\n",
       "      <th>Interested Type of Books</th>\n",
       "      <th>Management or Technical</th>\n",
       "      <th>hard/smart worker</th>\n",
       "      <th>worked in teams ever?</th>\n",
       "      <th>Introvert</th>\n",
       "      <th>Suggested Job Role</th>\n",
       "    </tr>\n",
       "  </thead>\n",
       "  <tbody>\n",
       "    <tr>\n",
       "      <th>0</th>\n",
       "      <td>5</td>\n",
       "      <td>0</td>\n",
       "      <td>6</td>\n",
       "      <td>2</td>\n",
       "      <td>yes</td>\n",
       "      <td>no</td>\n",
       "      <td>information security</td>\n",
       "      <td>testing</td>\n",
       "      <td>poor</td>\n",
       "      <td>poor</td>\n",
       "      <td>programming</td>\n",
       "      <td>testing</td>\n",
       "      <td>BPA</td>\n",
       "      <td>no</td>\n",
       "      <td>Series</td>\n",
       "      <td>Management</td>\n",
       "      <td>smart worker</td>\n",
       "      <td>yes</td>\n",
       "      <td>no</td>\n",
       "      <td>Applications Developer</td>\n",
       "    </tr>\n",
       "    <tr>\n",
       "      <th>1</th>\n",
       "      <td>7</td>\n",
       "      <td>6</td>\n",
       "      <td>4</td>\n",
       "      <td>3</td>\n",
       "      <td>no</td>\n",
       "      <td>yes</td>\n",
       "      <td>shell programming</td>\n",
       "      <td>testing</td>\n",
       "      <td>excellent</td>\n",
       "      <td>medium</td>\n",
       "      <td>Management</td>\n",
       "      <td>system developer</td>\n",
       "      <td>Cloud Services</td>\n",
       "      <td>yes</td>\n",
       "      <td>Autobiographies</td>\n",
       "      <td>Technical</td>\n",
       "      <td>hard worker</td>\n",
       "      <td>no</td>\n",
       "      <td>yes</td>\n",
       "      <td>Applications Developer</td>\n",
       "    </tr>\n",
       "    <tr>\n",
       "      <th>2</th>\n",
       "      <td>2</td>\n",
       "      <td>3</td>\n",
       "      <td>9</td>\n",
       "      <td>1</td>\n",
       "      <td>no</td>\n",
       "      <td>yes</td>\n",
       "      <td>information security</td>\n",
       "      <td>testing</td>\n",
       "      <td>excellent</td>\n",
       "      <td>poor</td>\n",
       "      <td>data engineering</td>\n",
       "      <td>Business process analyst</td>\n",
       "      <td>product development</td>\n",
       "      <td>yes</td>\n",
       "      <td>Travel</td>\n",
       "      <td>Technical</td>\n",
       "      <td>smart worker</td>\n",
       "      <td>no</td>\n",
       "      <td>no</td>\n",
       "      <td>Applications Developer</td>\n",
       "    </tr>\n",
       "    <tr>\n",
       "      <th>3</th>\n",
       "      <td>2</td>\n",
       "      <td>6</td>\n",
       "      <td>3</td>\n",
       "      <td>5</td>\n",
       "      <td>no</td>\n",
       "      <td>yes</td>\n",
       "      <td>r programming</td>\n",
       "      <td>database security</td>\n",
       "      <td>excellent</td>\n",
       "      <td>poor</td>\n",
       "      <td>networks</td>\n",
       "      <td>testing</td>\n",
       "      <td>Testing and Maintainance Services</td>\n",
       "      <td>yes</td>\n",
       "      <td>Guide</td>\n",
       "      <td>Management</td>\n",
       "      <td>smart worker</td>\n",
       "      <td>yes</td>\n",
       "      <td>yes</td>\n",
       "      <td>Applications Developer</td>\n",
       "    </tr>\n",
       "    <tr>\n",
       "      <th>4</th>\n",
       "      <td>2</td>\n",
       "      <td>0</td>\n",
       "      <td>3</td>\n",
       "      <td>4</td>\n",
       "      <td>yes</td>\n",
       "      <td>no</td>\n",
       "      <td>distro making</td>\n",
       "      <td>game development</td>\n",
       "      <td>excellent</td>\n",
       "      <td>medium</td>\n",
       "      <td>Software Engineering</td>\n",
       "      <td>system developer</td>\n",
       "      <td>BPA</td>\n",
       "      <td>no</td>\n",
       "      <td>Health</td>\n",
       "      <td>Technical</td>\n",
       "      <td>hard worker</td>\n",
       "      <td>yes</td>\n",
       "      <td>no</td>\n",
       "      <td>Applications Developer</td>\n",
       "    </tr>\n",
       "  </tbody>\n",
       "</table>\n",
       "</div>"
      ],
      "text/plain": [
       "   Logical quotient rating  hackathons  coding skills rating  \\\n",
       "0                        5           0                     6   \n",
       "1                        7           6                     4   \n",
       "2                        2           3                     9   \n",
       "3                        2           6                     3   \n",
       "4                        2           0                     3   \n",
       "\n",
       "   public speaking points self-learning capability? Extra-courses did  \\\n",
       "0                       2                       yes                no   \n",
       "1                       3                        no               yes   \n",
       "2                       1                        no               yes   \n",
       "3                       5                        no               yes   \n",
       "4                       4                       yes                no   \n",
       "\n",
       "         certifications          workshops reading and writing skills  \\\n",
       "0  information security            testing                       poor   \n",
       "1     shell programming            testing                  excellent   \n",
       "2  information security            testing                  excellent   \n",
       "3         r programming  database security                  excellent   \n",
       "4         distro making   game development                  excellent   \n",
       "\n",
       "  memory capability score   Interested subjects   interested career area   \\\n",
       "0                    poor           programming                   testing   \n",
       "1                  medium            Management          system developer   \n",
       "2                    poor      data engineering  Business process analyst   \n",
       "3                    poor              networks                   testing   \n",
       "4                  medium  Software Engineering          system developer   \n",
       "\n",
       "  Type of company want to settle in? Taken inputs from seniors or elders  \\\n",
       "0                                BPA                                  no   \n",
       "1                     Cloud Services                                 yes   \n",
       "2                product development                                 yes   \n",
       "3  Testing and Maintainance Services                                 yes   \n",
       "4                                BPA                                  no   \n",
       "\n",
       "  Interested Type of Books Management or Technical hard/smart worker  \\\n",
       "0                   Series              Management      smart worker   \n",
       "1          Autobiographies               Technical       hard worker   \n",
       "2                   Travel               Technical      smart worker   \n",
       "3                    Guide              Management      smart worker   \n",
       "4                   Health               Technical       hard worker   \n",
       "\n",
       "  worked in teams ever? Introvert      Suggested Job Role  \n",
       "0                   yes        no  Applications Developer  \n",
       "1                    no       yes  Applications Developer  \n",
       "2                    no        no  Applications Developer  \n",
       "3                   yes       yes  Applications Developer  \n",
       "4                   yes        no  Applications Developer  "
      ]
     },
     "execution_count": 14,
     "metadata": {},
     "output_type": "execute_result"
    }
   ],
   "source": [
    "## Shows the first 5 rows of the dataframe\n",
    "data.head()"
   ]
  },
  {
   "cell_type": "code",
   "execution_count": 6,
   "metadata": {
    "colab": {
     "base_uri": "https://localhost:8080/"
    },
    "id": "XClCPqw-gy3L",
    "outputId": "a543e6e5-95c5-4005-adc2-f24c59fd66ac"
   },
   "outputs": [
    {
     "data": {
      "text/plain": [
       "(6901, 20)"
      ]
     },
     "execution_count": 6,
     "metadata": {},
     "output_type": "execute_result"
    }
   ],
   "source": [
    "## Number of rows and columns\n",
    "data.shape"
   ]
  },
  {
   "cell_type": "code",
   "execution_count": 7,
   "metadata": {
    "colab": {
     "base_uri": "https://localhost:8080/"
    },
    "id": "nryNSjgwiceC",
    "outputId": "967cc6a0-d4d4-4c12-8190-9745f5c1094e"
   },
   "outputs": [
    {
     "name": "stdout",
     "output_type": "stream",
     "text": [
      "<class 'pandas.core.frame.DataFrame'>\n",
      "RangeIndex: 6901 entries, 0 to 6900\n",
      "Data columns (total 20 columns):\n",
      " #   Column                               Non-Null Count  Dtype \n",
      "---  ------                               --------------  ----- \n",
      " 0   Logical quotient rating              6901 non-null   int64 \n",
      " 1   hackathons                           6901 non-null   int64 \n",
      " 2   coding skills rating                 6901 non-null   int64 \n",
      " 3   public speaking points               6901 non-null   int64 \n",
      " 4   self-learning capability?            6901 non-null   object\n",
      " 5   Extra-courses did                    6901 non-null   object\n",
      " 6   certifications                       6901 non-null   object\n",
      " 7   workshops                            6901 non-null   object\n",
      " 8   reading and writing skills           6901 non-null   object\n",
      " 9   memory capability score              6901 non-null   object\n",
      " 10  Interested subjects                  6901 non-null   object\n",
      " 11  interested career area               6901 non-null   object\n",
      " 12  Type of company want to settle in?   6901 non-null   object\n",
      " 13  Taken inputs from seniors or elders  6901 non-null   object\n",
      " 14  Interested Type of Books             6901 non-null   object\n",
      " 15  Management or Technical              6901 non-null   object\n",
      " 16  hard/smart worker                    6901 non-null   object\n",
      " 17  worked in teams ever?                6901 non-null   object\n",
      " 18  Introvert                            6901 non-null   object\n",
      " 19  Suggested Job Role                   6901 non-null   object\n",
      "dtypes: int64(4), object(16)\n",
      "memory usage: 1.1+ MB\n"
     ]
    }
   ],
   "source": [
    "## Getting some informations about the dataset\n",
    "data.info()"
   ]
  },
  {
   "cell_type": "code",
   "execution_count": 8,
   "metadata": {
    "colab": {
     "base_uri": "https://localhost:8080/",
     "height": 711
    },
    "id": "mRXVNwyKieZg",
    "outputId": "1ab9663e-2ff2-49ad-f5ed-87c74eb845cd"
   },
   "outputs": [
    {
     "data": {
      "text/plain": [
       "Logical quotient rating                0\n",
       "hackathons                             0\n",
       "coding skills rating                   0\n",
       "public speaking points                 0\n",
       "self-learning capability?              0\n",
       "Extra-courses did                      0\n",
       "certifications                         0\n",
       "workshops                              0\n",
       "reading and writing skills             0\n",
       "memory capability score                0\n",
       "Interested subjects                    0\n",
       "interested career area                 0\n",
       "Type of company want to settle in?     0\n",
       "Taken inputs from seniors or elders    0\n",
       "Interested Type of Books               0\n",
       "Management or Technical                0\n",
       "hard/smart worker                      0\n",
       "worked in teams ever?                  0\n",
       "Introvert                              0\n",
       "Suggested Job Role                     0\n",
       "dtype: int64"
      ]
     },
     "execution_count": 8,
     "metadata": {},
     "output_type": "execute_result"
    }
   ],
   "source": [
    "## Checking for missing values\n",
    "data.isnull().sum(axis=0)"
   ]
  },
  {
   "cell_type": "markdown",
   "metadata": {
    "id": "u0m7xqdxFf-x"
   },
   "source": [
    "No missing values in the dataset"
   ]
  },
  {
   "cell_type": "code",
   "execution_count": 9,
   "metadata": {
    "colab": {
     "base_uri": "https://localhost:8080/",
     "height": 300
    },
    "id": "XeaCOyTNjPLk",
    "outputId": "7b75999b-8f73-4f13-96f0-29aa552e6120"
   },
   "outputs": [
    {
     "data": {
      "text/html": [
       "<div>\n",
       "<style scoped>\n",
       "    .dataframe tbody tr th:only-of-type {\n",
       "        vertical-align: middle;\n",
       "    }\n",
       "\n",
       "    .dataframe tbody tr th {\n",
       "        vertical-align: top;\n",
       "    }\n",
       "\n",
       "    .dataframe thead th {\n",
       "        text-align: right;\n",
       "    }\n",
       "</style>\n",
       "<table border=\"1\" class=\"dataframe\">\n",
       "  <thead>\n",
       "    <tr style=\"text-align: right;\">\n",
       "      <th></th>\n",
       "      <th>Logical quotient rating</th>\n",
       "      <th>hackathons</th>\n",
       "      <th>coding skills rating</th>\n",
       "      <th>public speaking points</th>\n",
       "    </tr>\n",
       "  </thead>\n",
       "  <tbody>\n",
       "    <tr>\n",
       "      <th>count</th>\n",
       "      <td>6901.000000</td>\n",
       "      <td>6901.000000</td>\n",
       "      <td>6901.000000</td>\n",
       "      <td>6901.000000</td>\n",
       "    </tr>\n",
       "    <tr>\n",
       "      <th>mean</th>\n",
       "      <td>4.991016</td>\n",
       "      <td>2.999710</td>\n",
       "      <td>5.010723</td>\n",
       "      <td>4.988263</td>\n",
       "    </tr>\n",
       "    <tr>\n",
       "      <th>std</th>\n",
       "      <td>2.577704</td>\n",
       "      <td>2.010191</td>\n",
       "      <td>2.568347</td>\n",
       "      <td>2.599500</td>\n",
       "    </tr>\n",
       "    <tr>\n",
       "      <th>min</th>\n",
       "      <td>1.000000</td>\n",
       "      <td>0.000000</td>\n",
       "      <td>1.000000</td>\n",
       "      <td>1.000000</td>\n",
       "    </tr>\n",
       "    <tr>\n",
       "      <th>25%</th>\n",
       "      <td>3.000000</td>\n",
       "      <td>1.000000</td>\n",
       "      <td>3.000000</td>\n",
       "      <td>3.000000</td>\n",
       "    </tr>\n",
       "    <tr>\n",
       "      <th>50%</th>\n",
       "      <td>5.000000</td>\n",
       "      <td>3.000000</td>\n",
       "      <td>5.000000</td>\n",
       "      <td>5.000000</td>\n",
       "    </tr>\n",
       "    <tr>\n",
       "      <th>75%</th>\n",
       "      <td>7.000000</td>\n",
       "      <td>5.000000</td>\n",
       "      <td>7.000000</td>\n",
       "      <td>7.000000</td>\n",
       "    </tr>\n",
       "    <tr>\n",
       "      <th>max</th>\n",
       "      <td>9.000000</td>\n",
       "      <td>6.000000</td>\n",
       "      <td>9.000000</td>\n",
       "      <td>9.000000</td>\n",
       "    </tr>\n",
       "  </tbody>\n",
       "</table>\n",
       "</div>"
      ],
      "text/plain": [
       "       Logical quotient rating   hackathons  coding skills rating  \\\n",
       "count              6901.000000  6901.000000           6901.000000   \n",
       "mean                  4.991016     2.999710              5.010723   \n",
       "std                   2.577704     2.010191              2.568347   \n",
       "min                   1.000000     0.000000              1.000000   \n",
       "25%                   3.000000     1.000000              3.000000   \n",
       "50%                   5.000000     3.000000              5.000000   \n",
       "75%                   7.000000     5.000000              7.000000   \n",
       "max                   9.000000     6.000000              9.000000   \n",
       "\n",
       "       public speaking points  \n",
       "count             6901.000000  \n",
       "mean                 4.988263  \n",
       "std                  2.599500  \n",
       "min                  1.000000  \n",
       "25%                  3.000000  \n",
       "50%                  5.000000  \n",
       "75%                  7.000000  \n",
       "max                  9.000000  "
      ]
     },
     "execution_count": 9,
     "metadata": {},
     "output_type": "execute_result"
    }
   ],
   "source": [
    "## statistical Measures of the dataset\n",
    "data.describe()"
   ]
  },
  {
   "cell_type": "code",
   "execution_count": 10,
   "metadata": {
    "colab": {
     "base_uri": "https://localhost:8080/"
    },
    "id": "vBmNHMwjECVf",
    "outputId": "492b86e2-a4dc-4d6c-82db-11b12228cb56"
   },
   "outputs": [
    {
     "name": "stdout",
     "output_type": "stream",
     "text": [
      "List of Numerical features: \n",
      " ['Logical quotient rating', 'hackathons', 'coding skills rating', 'public speaking points']\n",
      "\n",
      "\n",
      "List of Categorical features: \n",
      " ['self-learning capability?', 'Extra-courses did', 'certifications', 'workshops', 'reading and writing skills', 'memory capability score', 'Interested subjects', 'interested career area ', 'Type of company want to settle in?', 'Taken inputs from seniors or elders', 'Interested Type of Books', 'Management or Technical', 'hard/smart worker', 'worked in teams ever?', 'Introvert', 'Suggested Job Role']\n"
     ]
    }
   ],
   "source": [
    "print(\"List of Numerical features: \\n\" , data.select_dtypes(include=np.number).columns.tolist())\n",
    "print(\"\\n\\nList of Categorical features: \\n\" , data.select_dtypes(include=['object']).columns.tolist())"
   ]
  },
  {
   "cell_type": "markdown",
   "metadata": {
    "id": "PhsbLjrxj7ao"
   },
   "source": []
  },
  {
   "cell_type": "markdown",
   "metadata": {
    "id": "_R-VCz2MzuzO"
   },
   "source": [
    "### Visualization for Categorical Variables"
   ]
  },
  {
   "cell_type": "code",
   "execution_count": 10,
   "metadata": {
    "colab": {
     "base_uri": "https://localhost:8080/"
    },
    "id": "zkKi0IXeRFI9",
    "outputId": "a5db4081-fda9-46ee-8b5a-6c532792b7f9"
   },
   "outputs": [
    {
     "name": "stdout",
     "output_type": "stream",
     "text": [
      "Logical quotient rating\n",
      "6    799\n",
      "9    784\n",
      "2    782\n",
      "5    773\n",
      "3    772\n",
      "4    759\n",
      "1    756\n",
      "7    752\n",
      "8    724\n",
      "Name: count, dtype: int64\n"
     ]
    }
   ],
   "source": [
    "print(data[\"Logical quotient rating\"].value_counts())"
   ]
  },
  {
   "cell_type": "code",
   "execution_count": 11,
   "metadata": {
    "colab": {
     "base_uri": "https://localhost:8080/"
    },
    "id": "Mb8ytwaIRV9o",
    "outputId": "b44a7be3-86f3-4f82-c0bd-a32add3b4082"
   },
   "outputs": [
    {
     "name": "stdout",
     "output_type": "stream",
     "text": [
      "hackathons\n",
      "5    1033\n",
      "2    1026\n",
      "0    1010\n",
      "6     989\n",
      "3     966\n",
      "1     952\n",
      "4     925\n",
      "Name: count, dtype: int64\n"
     ]
    }
   ],
   "source": [
    "print(data[\"hackathons\"].value_counts())"
   ]
  },
  {
   "cell_type": "code",
   "execution_count": 12,
   "metadata": {
    "colab": {
     "base_uri": "https://localhost:8080/"
    },
    "id": "cyNI-CPTRiBs",
    "outputId": "fa1b1854-3adf-4156-c0aa-33aaf4e6e013"
   },
   "outputs": [
    {
     "name": "stdout",
     "output_type": "stream",
     "text": [
      "coding skills rating\n",
      "4    787\n",
      "5    777\n",
      "2    776\n",
      "6    774\n",
      "8    767\n",
      "7    766\n",
      "9    761\n",
      "3    755\n",
      "1    738\n",
      "Name: count, dtype: int64\n"
     ]
    }
   ],
   "source": [
    "print(data[\"coding skills rating\"].value_counts())"
   ]
  },
  {
   "cell_type": "code",
   "execution_count": 13,
   "metadata": {
    "colab": {
     "base_uri": "https://localhost:8080/"
    },
    "id": "ELiScL3ARn5p",
    "outputId": "946987f2-996a-4e37-c874-0f93cb4eb333"
   },
   "outputs": [
    {
     "name": "stdout",
     "output_type": "stream",
     "text": [
      "public speaking points\n",
      "7    807\n",
      "1    799\n",
      "8    777\n",
      "2    770\n",
      "3    766\n",
      "4    760\n",
      "9    758\n",
      "6    740\n",
      "5    724\n",
      "Name: count, dtype: int64\n"
     ]
    }
   ],
   "source": [
    "print(data[\"public speaking points\"].value_counts())"
   ]
  },
  {
   "cell_type": "code",
   "execution_count": 14,
   "metadata": {
    "colab": {
     "base_uri": "https://localhost:8080/"
    },
    "id": "GMPvIZW9zhtr",
    "outputId": "99fbabe7-14f2-4da6-f7b9-cf60e54fbeaa"
   },
   "outputs": [
    {
     "name": "stdout",
     "output_type": "stream",
     "text": [
      "interested career area \n",
      "system developer            1178\n",
      "security                    1177\n",
      "Business process analyst    1154\n",
      "developer                   1145\n",
      "testing                     1128\n",
      "cloud computing             1119\n",
      "Name: count, dtype: int64\n"
     ]
    }
   ],
   "source": [
    "print(data[\"interested career area \"].value_counts())"
   ]
  },
  {
   "cell_type": "code",
   "execution_count": 15,
   "metadata": {
    "colab": {
     "base_uri": "https://localhost:8080/"
    },
    "id": "hRzpIzQixGVE",
    "outputId": "532bba97-a6b3-4578-d934-a012f933e4b5"
   },
   "outputs": [
    {
     "name": "stdout",
     "output_type": "stream",
     "text": [
      "Suggested Job Role\n",
      "Network Security Engineer                    630\n",
      "Software Engineer                            590\n",
      "UX Designer                                  589\n",
      "Software Developer                           587\n",
      "Database Developer                           581\n",
      "Software Quality Assurance (QA) / Testing    571\n",
      "Web Developer                                570\n",
      "CRM Technical Developer                      567\n",
      "Technical Support                            565\n",
      "Systems Security Administrator               562\n",
      "Applications Developer                       551\n",
      "Mobile Applications Developer                538\n",
      "Name: count, dtype: int64\n"
     ]
    }
   ],
   "source": [
    "print(data['Suggested Job Role'].value_counts())"
   ]
  },
  {
   "cell_type": "code",
   "execution_count": 16,
   "metadata": {
    "colab": {
     "base_uri": "https://localhost:8080/"
    },
    "id": "3is_gxL2WUp8",
    "outputId": "8765f292-98e0-48e1-b287-038566f69c38"
   },
   "outputs": [
    {
     "name": "stdout",
     "output_type": "stream",
     "text": [
      "Index(['Logical quotient rating', 'hackathons', 'coding skills rating',\n",
      "       'public speaking points', 'self-learning capability?',\n",
      "       'Extra-courses did', 'certifications', 'workshops',\n",
      "       'reading and writing skills', 'memory capability score',\n",
      "       'Interested subjects', 'interested career area ',\n",
      "       'Type of company want to settle in?',\n",
      "       'Taken inputs from seniors or elders', 'Interested Type of Books',\n",
      "       'Management or Technical', 'hard/smart worker', 'worked in teams ever?',\n",
      "       'Introvert', 'Suggested Job Role'],\n",
      "      dtype='object')\n"
     ]
    }
   ],
   "source": [
    "print(data.columns)"
   ]
  },
  {
   "cell_type": "markdown",
   "metadata": {
    "id": "3I9HzOa5KTLk"
   },
   "source": [
    "# **Feature Engineering**"
   ]
  },
  {
   "cell_type": "markdown",
   "metadata": {
    "id": "RSI6GXJEj8zv"
   },
   "source": [
    "### Encoding the categorical features"
   ]
  },
  {
   "cell_type": "code",
   "execution_count": 15,
   "metadata": {
    "id": "0tkRIMqMjPrh"
   },
   "outputs": [],
   "source": [
    "## encoding \"self-learning capability?\" column.\n",
    "data.replace({'self-learning capability?':{'yes':1,'no':0}},inplace=True)\n",
    "\n",
    "\n",
    "\n",
    "## encoding \"Extra-courses did\" column.\n",
    "data.replace({'Extra-courses did':{'yes':1,'no':0}},inplace=True)\n",
    "\n",
    "\n",
    "\n",
    "## encoding \"certifications\" column.\n",
    "data.replace({'certifications':{'r programming' : 0,\n",
    "'information security': 1,\n",
    "'shell programming' : 2,\n",
    "'machine learning' : 3,\n",
    "'full stack': 4,\n",
    "'hadoop' : 5,\n",
    "'python' : 6,\n",
    "'distro making' : 7,\n",
    "'app development' : 8\n",
    "}},inplace=True)\n",
    "\n",
    "\n",
    "\n",
    "## encoding \"workshops\" column.\n",
    "data.replace({'workshops':{'database security' :0,\n",
    "'system designing' : 1,\n",
    "'web technologies' : 2,\n",
    "'hacking' : 3,\n",
    "'testing' : 4,\n",
    "'data science' : 5,\n",
    "'game development' : 6,\n",
    "'cloud computing' : 7\n",
    "}},inplace=True)\n",
    "\n",
    "\n",
    "\n",
    "## encoding \"reading and writing skills\" column.\n",
    "data.replace({'reading and writing skills':{'poor':0,'medium':1, 'excellent':2}},inplace=True)\n",
    "\n",
    "\n",
    "\n",
    "## encoding \"memory capability score\" column.\n",
    "data.replace({'memory capability score':{'poor':0,'medium':1, 'excellent':2}},inplace=True)\n",
    "\n",
    "\n",
    "\n",
    "## encoding \"Interested subjects\" column.\n",
    "data.replace({'Interested subjects':{'Software Engineering': 0, 'IOT': 1, 'cloud computing': 2, 'programming': 3, 'networks': 4,\n",
    "    'Computer Architecture': 5, 'data engineering': 6, 'hacking': 7, 'Management': 8, 'parallel computing': 9}},inplace=True)\n",
    "\n",
    "\n",
    "\n",
    "## encoding \"interested career area\" column.\n",
    "data.replace({'interested career area ':{'system developer': 0, 'security': 1, 'Business process analyst': 2, 'developer': 3, 'testing': 4,\n",
    "    'cloud computing': 5}},inplace=True)\n",
    "\n",
    "\n",
    "\n",
    "## encoding \"Type of company want to settle in?\" column.\n",
    "data.replace({'Type of company want to settle in?':{'Service Based': 0, 'Web Services': 1, 'BPA': 2, 'Testing and Maintainance Services': 3,\n",
    "    'Product based': 4, 'Finance': 5, 'Cloud Services': 6, 'product development': 7,\n",
    "    'Sales and Marketing': 8, 'SAaS services': 9}},inplace=True)\n",
    "\n",
    "\n",
    "\n",
    "## encoding \"Taken inputs from seniors or elders\" column.\n",
    "data.replace({'Taken inputs from seniors or elders':{'yes': 1, 'no': 0}},inplace=True)\n",
    "\n",
    "\n",
    "\n",
    "## encoding \"Interested Type of Books\" column.\n",
    "data.replace({'Interested Type of Books':{'Guide': 0, 'Health': 1, 'Self help': 2, 'Horror': 3, 'Biographies': 4, 'Science fiction': 5,\n",
    "    'Satire': 6, 'Childrens': 7, 'Autobiographies': 8, 'Prayer books': 9, 'Fantasy': 10, 'Journals': 11,\n",
    "    'Trilogy': 12, 'Anthology': 13, 'Encyclopedias': 14, 'Drama': 15, 'Mystery': 16, 'History': 17,\n",
    "    'Science': 18, 'Dictionaries': 19, 'Diaries': 20, 'Religion-Spirituality': 21, 'Action and Adventure': 22,\n",
    "    'Poetry': 23, 'Cookbooks': 24, 'Comics': 25, 'Art': 26, 'Travel': 27, 'Series': 28, 'Math': 29, 'Romance': 30}},inplace=True)\n",
    "\n",
    "\n",
    "\n",
    "## encoding \"Management or Technical\" column.\n",
    "data.replace({'Management or Technical':{'Management': 0, 'Technical': 1}},inplace=True)\n",
    "\n",
    "\n",
    "\n",
    "## encoding \"hard/smart worker\" column.\n",
    "data.replace({'hard/smart worker':{'hard worker': 0, 'smart worker': 1}},inplace=True)\n",
    "\n",
    "\n",
    "\n",
    "## encoding \"worked in teams ever?\" column.\n",
    "data.replace({'worked in teams ever?':{'yes': 1, 'no': 0}},inplace=True)\n",
    "\n",
    "\n",
    "\n",
    "## encoding \"Introvert\" column.\n",
    "data.replace({'Introvert':{'yes': 1, 'no': 0}},inplace=True)\n"
   ]
  },
  {
   "cell_type": "code",
   "execution_count": 16,
   "metadata": {
    "id": "FfeovwOknKPJ"
   },
   "outputs": [],
   "source": [
    "X = data.drop(columns='Suggested Job Role', axis=1)\n",
    "X = pd.DataFrame(X)\n",
    "Y = data['Suggested Job Role']"
   ]
  },
  {
   "cell_type": "markdown",
   "metadata": {
    "id": "kpbwCavZlICX"
   },
   "source": [
    "### Head Values"
   ]
  },
  {
   "cell_type": "code",
   "execution_count": 17,
   "metadata": {
    "colab": {
     "base_uri": "https://localhost:8080/",
     "height": 345
    },
    "id": "PHuS8i_z0gwz",
    "outputId": "e34f9438-e8ad-4204-b4b7-5bdd208dd7d7"
   },
   "outputs": [
    {
     "data": {
      "text/html": [
       "<div>\n",
       "<style scoped>\n",
       "    .dataframe tbody tr th:only-of-type {\n",
       "        vertical-align: middle;\n",
       "    }\n",
       "\n",
       "    .dataframe tbody tr th {\n",
       "        vertical-align: top;\n",
       "    }\n",
       "\n",
       "    .dataframe thead th {\n",
       "        text-align: right;\n",
       "    }\n",
       "</style>\n",
       "<table border=\"1\" class=\"dataframe\">\n",
       "  <thead>\n",
       "    <tr style=\"text-align: right;\">\n",
       "      <th></th>\n",
       "      <th>Logical quotient rating</th>\n",
       "      <th>hackathons</th>\n",
       "      <th>coding skills rating</th>\n",
       "      <th>public speaking points</th>\n",
       "      <th>self-learning capability?</th>\n",
       "      <th>Extra-courses did</th>\n",
       "      <th>certifications</th>\n",
       "      <th>workshops</th>\n",
       "      <th>reading and writing skills</th>\n",
       "      <th>memory capability score</th>\n",
       "      <th>Interested subjects</th>\n",
       "      <th>interested career area</th>\n",
       "      <th>Type of company want to settle in?</th>\n",
       "      <th>Taken inputs from seniors or elders</th>\n",
       "      <th>Interested Type of Books</th>\n",
       "      <th>Management or Technical</th>\n",
       "      <th>hard/smart worker</th>\n",
       "      <th>worked in teams ever?</th>\n",
       "      <th>Introvert</th>\n",
       "      <th>Suggested Job Role</th>\n",
       "    </tr>\n",
       "  </thead>\n",
       "  <tbody>\n",
       "    <tr>\n",
       "      <th>0</th>\n",
       "      <td>5</td>\n",
       "      <td>0</td>\n",
       "      <td>6</td>\n",
       "      <td>2</td>\n",
       "      <td>1</td>\n",
       "      <td>0</td>\n",
       "      <td>1</td>\n",
       "      <td>4</td>\n",
       "      <td>0</td>\n",
       "      <td>0</td>\n",
       "      <td>3</td>\n",
       "      <td>4</td>\n",
       "      <td>2</td>\n",
       "      <td>0</td>\n",
       "      <td>28</td>\n",
       "      <td>0</td>\n",
       "      <td>1</td>\n",
       "      <td>1</td>\n",
       "      <td>0</td>\n",
       "      <td>Applications Developer</td>\n",
       "    </tr>\n",
       "    <tr>\n",
       "      <th>1</th>\n",
       "      <td>7</td>\n",
       "      <td>6</td>\n",
       "      <td>4</td>\n",
       "      <td>3</td>\n",
       "      <td>0</td>\n",
       "      <td>1</td>\n",
       "      <td>2</td>\n",
       "      <td>4</td>\n",
       "      <td>2</td>\n",
       "      <td>1</td>\n",
       "      <td>8</td>\n",
       "      <td>0</td>\n",
       "      <td>6</td>\n",
       "      <td>1</td>\n",
       "      <td>8</td>\n",
       "      <td>1</td>\n",
       "      <td>0</td>\n",
       "      <td>0</td>\n",
       "      <td>1</td>\n",
       "      <td>Applications Developer</td>\n",
       "    </tr>\n",
       "    <tr>\n",
       "      <th>2</th>\n",
       "      <td>2</td>\n",
       "      <td>3</td>\n",
       "      <td>9</td>\n",
       "      <td>1</td>\n",
       "      <td>0</td>\n",
       "      <td>1</td>\n",
       "      <td>1</td>\n",
       "      <td>4</td>\n",
       "      <td>2</td>\n",
       "      <td>0</td>\n",
       "      <td>6</td>\n",
       "      <td>2</td>\n",
       "      <td>7</td>\n",
       "      <td>1</td>\n",
       "      <td>27</td>\n",
       "      <td>1</td>\n",
       "      <td>1</td>\n",
       "      <td>0</td>\n",
       "      <td>0</td>\n",
       "      <td>Applications Developer</td>\n",
       "    </tr>\n",
       "    <tr>\n",
       "      <th>3</th>\n",
       "      <td>2</td>\n",
       "      <td>6</td>\n",
       "      <td>3</td>\n",
       "      <td>5</td>\n",
       "      <td>0</td>\n",
       "      <td>1</td>\n",
       "      <td>0</td>\n",
       "      <td>0</td>\n",
       "      <td>2</td>\n",
       "      <td>0</td>\n",
       "      <td>4</td>\n",
       "      <td>4</td>\n",
       "      <td>3</td>\n",
       "      <td>1</td>\n",
       "      <td>0</td>\n",
       "      <td>0</td>\n",
       "      <td>1</td>\n",
       "      <td>1</td>\n",
       "      <td>1</td>\n",
       "      <td>Applications Developer</td>\n",
       "    </tr>\n",
       "    <tr>\n",
       "      <th>4</th>\n",
       "      <td>2</td>\n",
       "      <td>0</td>\n",
       "      <td>3</td>\n",
       "      <td>4</td>\n",
       "      <td>1</td>\n",
       "      <td>0</td>\n",
       "      <td>7</td>\n",
       "      <td>6</td>\n",
       "      <td>2</td>\n",
       "      <td>1</td>\n",
       "      <td>0</td>\n",
       "      <td>0</td>\n",
       "      <td>2</td>\n",
       "      <td>0</td>\n",
       "      <td>1</td>\n",
       "      <td>1</td>\n",
       "      <td>0</td>\n",
       "      <td>1</td>\n",
       "      <td>0</td>\n",
       "      <td>Applications Developer</td>\n",
       "    </tr>\n",
       "  </tbody>\n",
       "</table>\n",
       "</div>"
      ],
      "text/plain": [
       "   Logical quotient rating  hackathons  coding skills rating  \\\n",
       "0                        5           0                     6   \n",
       "1                        7           6                     4   \n",
       "2                        2           3                     9   \n",
       "3                        2           6                     3   \n",
       "4                        2           0                     3   \n",
       "\n",
       "   public speaking points self-learning capability? Extra-courses did  \\\n",
       "0                       2                         1                 0   \n",
       "1                       3                         0                 1   \n",
       "2                       1                         0                 1   \n",
       "3                       5                         0                 1   \n",
       "4                       4                         1                 0   \n",
       "\n",
       "  certifications workshops reading and writing skills memory capability score  \\\n",
       "0              1         4                          0                       0   \n",
       "1              2         4                          2                       1   \n",
       "2              1         4                          2                       0   \n",
       "3              0         0                          2                       0   \n",
       "4              7         6                          2                       1   \n",
       "\n",
       "  Interested subjects interested career area   \\\n",
       "0                   3                       4   \n",
       "1                   8                       0   \n",
       "2                   6                       2   \n",
       "3                   4                       4   \n",
       "4                   0                       0   \n",
       "\n",
       "  Type of company want to settle in? Taken inputs from seniors or elders  \\\n",
       "0                                  2                                   0   \n",
       "1                                  6                                   1   \n",
       "2                                  7                                   1   \n",
       "3                                  3                                   1   \n",
       "4                                  2                                   0   \n",
       "\n",
       "  Interested Type of Books Management or Technical hard/smart worker  \\\n",
       "0                       28                       0                 1   \n",
       "1                        8                       1                 0   \n",
       "2                       27                       1                 1   \n",
       "3                        0                       0                 1   \n",
       "4                        1                       1                 0   \n",
       "\n",
       "  worked in teams ever? Introvert      Suggested Job Role  \n",
       "0                     1         0  Applications Developer  \n",
       "1                     0         1  Applications Developer  \n",
       "2                     0         0  Applications Developer  \n",
       "3                     1         1  Applications Developer  \n",
       "4                     1         0  Applications Developer  "
      ]
     },
     "execution_count": 17,
     "metadata": {},
     "output_type": "execute_result"
    }
   ],
   "source": [
    "data.head()"
   ]
  },
  {
   "cell_type": "markdown",
   "metadata": {
    "id": "KwcVYQLZF_Fh"
   },
   "source": [
    "### Model Training\n"
   ]
  },
  {
   "cell_type": "code",
   "execution_count": 18,
   "metadata": {
    "id": "gHVVxUHgE_mQ"
   },
   "outputs": [],
   "source": [
    "import sklearn\n",
    "from sklearn.model_selection import train_test_split\n",
    "\n",
    "X_train, X_test, Y_train, Y_test = train_test_split(X, Y, test_size=0.2, random_state=2)"
   ]
  },
  {
   "cell_type": "code",
   "execution_count": 27,
   "metadata": {
    "colab": {
     "base_uri": "https://localhost:8080/"
    },
    "id": "C5NYiXsqGJ6i",
    "outputId": "730843ff-4915-441d-ad85-f02aa2a2c4c0"
   },
   "outputs": [
    {
     "name": "stdout",
     "output_type": "stream",
     "text": [
      "(6901, 19) (5520, 19) (1381, 19)\n"
     ]
    }
   ],
   "source": [
    "print(X.shape, X_train.shape, X_test.shape)\n",
    "X_test = pd.DataFrame(X_test, columns=X.columns) \n",
    "\n"
   ]
  },
  {
   "cell_type": "code",
   "execution_count": 21,
   "metadata": {
    "id": "Yq4HSPIg2Lpr"
   },
   "outputs": [],
   "source": [
    "from sklearn.metrics import accuracy_score, precision_score, recall_score, f1_score"
   ]
  },
  {
   "cell_type": "markdown",
   "metadata": {
    "id": "JNn6PlN-hpcL"
   },
   "source": [
    "### Decision Tree"
   ]
  },
  {
   "cell_type": "code",
   "execution_count": 29,
   "metadata": {
    "colab": {
     "base_uri": "https://localhost:8080/"
    },
    "id": "Gta_bGoBG1AB",
    "outputId": "81e1d8b7-1b32-4118-98f1-546d8e866a8e"
   },
   "outputs": [
    {
     "name": "stdout",
     "output_type": "stream",
     "text": [
      "Precision of Decision Tree Classifier:  0.08599760123093472\n",
      "  \n",
      "F1-Score of Decision Tree Classifier:  0.08577204602608891\n",
      "  \n",
      "Accuracy Score of Decision Tree Classifier:  0.8616944243301955\n",
      "  \n",
      "confusion matrics = \n",
      "[[10  8  7 16 10 10  7  9  6 11  5 10]\n",
      " [ 8  9  5 11 10 14 11  8  7  7 10  5]\n",
      " [ 9  9 12 12 10 23 10 11 13  7 14  9]\n",
      " [ 9  6  7  9 10  6 13  6 14 10  8  7]\n",
      " [ 8 11 10  6 14  9  8 12 11 13 15  8]\n",
      " [ 9 11 12 11 17 10 12  8  4  9 10 12]\n",
      " [ 9 10 12 10  7  7 16  4 10  7 13  8]\n",
      " [ 7 11 11 11  9  9  8  5 11 10  8 11]\n",
      " [ 9  6  9  4 10 12  9 10 11 11  6 10]\n",
      " [ 6 10 13  7 10  6 10  4  8  8  6 10]\n",
      " [ 6 19  7  7  9  9 17 14  9  9  7 11]\n",
      " [10 15  7 14 11  7  8 12 12  8  8  8]]\n"
     ]
    }
   ],
   "source": [
    "from sklearn.tree import DecisionTreeClassifier\n",
    "\n",
    "dtree = DecisionTreeClassifier(random_state=1)\n",
    "dtree.fit(X_train,Y_train)\n",
    "Y_pred = dtree.predict(X_test)\n",
    "\n",
    "print(\"Precision of Decision Tree Classifier: \",precision_score(Y_test, Y_pred, average='weighted'))\n",
    "print(\"  \")\n",
    "\n",
    "print(\"F1-Score of Decision Tree Classifier: \",f1_score(Y_test, Y_pred, average='weighted'))\n",
    "print(\"  \")\n",
    "\n",
    "accuracy = accuracy_score(Y_test,Y_pred)\n",
    "print(\"Accuracy Score of Decision Tree Classifier: \",accuracy*10)\n",
    "print(\"  \")\n",
    "\n",
    "cm = confusion_matrix(Y_test,Y_pred)\n",
    "print(\"confusion matrics = \")\n",
    "print(cm)\n",
    "\n"
   ]
  },
  {
   "cell_type": "code",
   "execution_count": 32,
   "metadata": {
    "colab": {
     "base_uri": "https://localhost:8080/"
    },
    "id": "YoAV0aIAItSr",
    "outputId": "cfea9d2d-2226-4ca4-a43f-d3319553a2ad"
   },
   "outputs": [
    {
     "name": "stdout",
     "output_type": "stream",
     "text": [
      "Prediction : ['Applications Developer']\n",
      "Probabilities of all classes:  [[1. 0. 0. 0. 0. 0. 0. 0. 0. 0. 0. 0.]]\n",
      "Probability of Predicted class :  1.0\n"
     ]
    }
   ],
   "source": [
    "userdata = [['5','0','6','2','1','0','1','4','0','0','3','4','2','0','28','0','1','1','0']]\n",
    "userdata_df = pd.DataFrame(userdata, columns=X.columns)\n",
    "ynewclass = dtree.predict(userdata_df)\n",
    "ynew = dtree.predict_proba(userdata_df)\n",
    "print(\"Prediction :\",ynewclass)\n",
    "print(\"Probabilities of all classes: \", ynew)\n",
    "print(\"Probability of Predicted class : \", np.max(ynew))"
   ]
  },
  {
   "cell_type": "markdown",
   "metadata": {
    "id": "pSLaIswGiUXD"
   },
   "source": [
    "### SVM"
   ]
  },
  {
   "cell_type": "code",
   "execution_count": 33,
   "metadata": {
    "colab": {
     "base_uri": "https://localhost:8080/"
    },
    "id": "bBumPiKJiWVS",
    "outputId": "08629ca8-f689-4c5e-9770-ab666dcd4d65"
   },
   "outputs": [
    {
     "name": "stdout",
     "output_type": "stream",
     "text": [
      "Precision of SVM Classifier:  0.0827693948055859\n",
      "  \n",
      "F1-Score of SVM Classifier:  0.07217665501883468\n",
      "  \n",
      "Accuracy Score of SVM Classifier:  0.8761766835626359\n",
      "  \n",
      "confusion matrics : \n",
      "[[ 4  3  5  0 32 16  8 18  5 10  6  2]\n",
      " [ 7  7  6  0 29 15  9 16  1 11  3  1]\n",
      " [ 5  3  3  0 44 14 16 14 16 14 10  0]\n",
      " [ 6  4  1  0 25 20 12 18  5  7  5  2]\n",
      " [ 7  9  2  0 42 15 10  9 11 11  7  2]\n",
      " [ 5  4  4  0 45 11 10 17 11  7 10  1]\n",
      " [ 5  7  0  0 31 17 10 16  9  9  9  0]\n",
      " [ 3  3  4  0 36 16  9 14  7 11  8  0]\n",
      " [ 3  5  5  1 29 17  8 13  9  8  7  2]\n",
      " [ 2  6  1  0 25 15 14 14  4 11  6  0]\n",
      " [ 3  7  2  1 36 14 11 17  8 14  8  3]\n",
      " [11  5  6  0 34 12 12 19  7  8  4  2]]\n"
     ]
    }
   ],
   "source": [
    "from sklearn import svm\n",
    "\n",
    "svm = svm.SVC()\n",
    "svm.fit(X_train, Y_train)\n",
    "\n",
    "svm_y_pred = svm.predict(X_test)\n",
    "\n",
    "print(\"Precision of SVM Classifier: \",precision_score(Y_test, svm_y_pred, average='weighted'))\n",
    "print(\"  \")\n",
    "\n",
    "print(\"F1-Score of SVM Classifier: \",f1_score(Y_test, svm_y_pred, average='weighted'))\n",
    "print(\"  \")\n",
    "\n",
    "svm_accuracy = accuracy_score(Y_test,svm_y_pred)\n",
    "print(\"Accuracy Score of SVM Classifier: \",svm_accuracy*10)\n",
    "print(\"  \")\n",
    "\n",
    "\n",
    "svm_cm = confusion_matrix(Y_test,svm_y_pred)\n",
    "\n",
    "print(\"confusion matrics : \")\n",
    "print(svm_cm)\n",
    "\n"
   ]
  },
  {
   "cell_type": "code",
   "execution_count": 34,
   "metadata": {
    "colab": {
     "base_uri": "https://localhost:8080/"
    },
    "id": "8uejI9xRmvOD",
    "outputId": "739c0d16-2a89-45dd-cae8-b3500cd535cf"
   },
   "outputs": [
    {
     "name": "stdout",
     "output_type": "stream",
     "text": [
      "Prediction : ['Network Security Engineer']\n",
      "Probabilities of all classes:  [[ 5.11034706  3.82581666  6.90554591  3.7762976  11.30112683  2.80745029\n",
      "   6.84284656  0.73821292  6.03489468  6.96231119 10.26766783  0.72770168]]\n",
      "Probability of Predicted class :  11.30112682703811\n"
     ]
    }
   ],
   "source": [
    "userdata = [['5','0','6','2','1','0','1','4','0','0','3','4','2','0','28','0','1','1','0']]\n",
    "userdata_df = pd.DataFrame(userdata, columns=X.columns)\n",
    "ynewclass = svm.predict(userdata_df)\n",
    "ynew = svm.decision_function(userdata_df)\n",
    "print(\"Prediction :\",ynewclass)\n",
    "print(\"Probabilities of all classes: \", ynew)\n",
    "print(\"Probability of Predicted class : \", np.max(ynew))"
   ]
  },
  {
   "cell_type": "markdown",
   "metadata": {
    "id": "xjosdVNUk8WU"
   },
   "source": [
    "### Random Forest"
   ]
  },
  {
   "cell_type": "code",
   "execution_count": null,
   "metadata": {
    "colab": {
     "base_uri": "https://localhost:8080/"
    },
    "id": "H0IQEIh_j2ZI",
    "outputId": "87ad1c9a-3b71-47fe-d941-2813098f7eec"
   },
   "outputs": [],
   "source": [
    "from sklearn.ensemble import RandomForestClassifier\n",
    "\n",
    "rf = RandomForestClassifier(random_state = 10)\n",
    "rf.fit(X_train, Y_train)\n",
    "rfc_y_pred = rf.predict(X_test)\n",
    "\n",
    "print(\"Precision of RandomForest Classifier: \",precision_score(Y_test, rfc_y_pred, average='weighted'))\n",
    "print(\"  \")\n",
    "\n",
    "print(\"F1-Score of RandomForest Classifier: \",f1_score(Y_test, rfc_y_pred, average='weighted'))\n",
    "print(\"  \")\n",
    "\n",
    "rfc_accuracy = accuracy_score(Y_test,rfc_y_pred)\n",
    "print(\"Accuracy of RandomForest Classifier: \",rfc_accuracy*10)\n",
    "print(\"  \")\n",
    "\n",
    "rfc_cm = confusion_matrix(Y_test,rfc_y_pred)\n",
    "\n",
    "print(\"confusion matrics=\")\n",
    "print(rfc_cm)"
   ]
  },
  {
   "cell_type": "code",
   "execution_count": 46,
   "metadata": {
    "colab": {
     "base_uri": "https://localhost:8080/"
    },
    "id": "pXKi7HKzoP9X",
    "outputId": "62af21db-c923-4ec3-f6d9-c1e97e669547"
   },
   "outputs": [
    {
     "name": "stdout",
     "output_type": "stream",
     "text": [
      "Prediction : ['Applications Developer']\n",
      "Probabilities of all classes:  [[0.68 0.07 0.   0.03 0.06 0.02 0.03 0.01 0.02 0.03 0.02 0.03]]\n",
      "Probability of Predicted class :  0.68\n"
     ]
    },
    {
     "name": "stderr",
     "output_type": "stream",
     "text": [
      "/usr/local/lib/python3.10/dist-packages/sklearn/base.py:493: UserWarning: X does not have valid feature names, but RandomForestClassifier was fitted with feature names\n",
      "  warnings.warn(\n",
      "/usr/local/lib/python3.10/dist-packages/sklearn/base.py:493: UserWarning: X does not have valid feature names, but RandomForestClassifier was fitted with feature names\n",
      "  warnings.warn(\n"
     ]
    }
   ],
   "source": [
    "userdata = [['5','0','6','2','1','0','1','4','0','0','3','4','2','0','28','0','1','1','0']]\n",
    "userdata_df = pd.DataFrame(userdata, columns=X.columns)\n",
    "ynewclass = rf.predict(userdata_df)\n",
    "ynew = rf.predict_proba(userdata_df)\n",
    "print(\"Prediction :\",ynewclass)\n",
    "print(\"Probabilities of all classes: \", ynew)\n",
    "print(\"Probability of Predicted class : \", np.max(ynew))"
   ]
  },
  {
   "cell_type": "markdown",
   "metadata": {
    "id": "8K-Iv2aniCKu"
   },
   "source": [
    "### Create a .pkl file using Decision Tree"
   ]
  },
  {
   "cell_type": "code",
   "execution_count": null,
   "metadata": {
    "id": "Bq70djRMTK1e"
   },
   "outputs": [],
   "source": [
    "import pickle\n",
    "pickle.dump(dtree,open('dtmodel.pkl','wb'))"
   ]
  },
  {
   "cell_type": "markdown",
   "metadata": {
    "id": "7CUaAitiq43I"
   },
   "source": [
    "### Create a .pkl file using Random Forest"
   ]
  },
  {
   "cell_type": "code",
   "execution_count": null,
   "metadata": {
    "id": "omjIepXaq22R"
   },
   "outputs": [],
   "source": [
    "import pickle\n",
    "pickle.dump(rf,open('rfmodel.pkl','wb'))"
   ]
  },
  {
   "cell_type": "code",
   "execution_count": null,
   "metadata": {
    "id": "4vSOfX_3cm7w"
   },
   "outputs": [],
   "source": [
    "##print(sklearn.__version__)\n",
    "##print(pd.__version__)"
   ]
  }
 ],
 "metadata": {
  "colab": {
   "provenance": []
  },
  "kernelspec": {
   "display_name": "Python 3 (ipykernel)",
   "language": "python",
   "name": "python3"
  },
  "language_info": {
   "codemirror_mode": {
    "name": "ipython",
    "version": 3
   },
   "file_extension": ".py",
   "mimetype": "text/x-python",
   "name": "python",
   "nbconvert_exporter": "python",
   "pygments_lexer": "ipython3",
   "version": "3.10.0"
  }
 },
 "nbformat": 4,
 "nbformat_minor": 4
}
